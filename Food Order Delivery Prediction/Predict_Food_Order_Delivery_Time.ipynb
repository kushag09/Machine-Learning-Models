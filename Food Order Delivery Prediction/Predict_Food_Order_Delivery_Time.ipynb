{
 "cells": [
  {
   "cell_type": "markdown",
   "metadata": {
    "id": "lYDHBRM__bag"
   },
   "source": [
    "<h4>Problem Statment: Using Data Available from Restaurants, Predict the Only Order Delivery Time Based on certain Factors"
   ]
  },
  {
   "cell_type": "code",
   "execution_count": 3,
   "metadata": {
    "id": "X6c6ippK_aM3"
   },
   "outputs": [],
   "source": [
    "#Importing libraries\n",
    "import numpy as np\n",
    "import pandas as pd"
   ]
  },
  {
   "cell_type": "markdown",
   "metadata": {
    "id": "ITew6PFK_baq"
   },
   "source": [
    "<h4>Reading the data"
   ]
  },
  {
   "cell_type": "code",
   "execution_count": 4,
   "metadata": {
    "id": "6KjrRmBj_lVe"
   },
   "outputs": [],
   "source": [
    "data = pd.read_excel(\"Data_Train.xlsx\")"
   ]
  },
  {
   "cell_type": "code",
   "execution_count": 5,
   "metadata": {
    "colab": {
     "base_uri": "https://localhost:8080/",
     "height": 202
    },
    "id": "YWv0IM2yAHIn",
    "outputId": "dc50fc8b-3e5d-427e-a24a-1861962154d8"
   },
   "outputs": [
    {
     "data": {
      "text/html": [
       "<div>\n",
       "<style scoped>\n",
       "    .dataframe tbody tr th:only-of-type {\n",
       "        vertical-align: middle;\n",
       "    }\n",
       "\n",
       "    .dataframe tbody tr th {\n",
       "        vertical-align: top;\n",
       "    }\n",
       "\n",
       "    .dataframe thead th {\n",
       "        text-align: right;\n",
       "    }\n",
       "</style>\n",
       "<table border=\"1\" class=\"dataframe\">\n",
       "  <thead>\n",
       "    <tr style=\"text-align: right;\">\n",
       "      <th></th>\n",
       "      <th>Restaurant</th>\n",
       "      <th>Location</th>\n",
       "      <th>Cuisines</th>\n",
       "      <th>Average_Cost</th>\n",
       "      <th>Minimum_Order</th>\n",
       "      <th>Rating</th>\n",
       "      <th>Votes</th>\n",
       "      <th>Reviews</th>\n",
       "      <th>Delivery_Time</th>\n",
       "    </tr>\n",
       "  </thead>\n",
       "  <tbody>\n",
       "    <tr>\n",
       "      <th>0</th>\n",
       "      <td>ID_6321</td>\n",
       "      <td>FTI College, Law College Road, Pune</td>\n",
       "      <td>Fast Food, Rolls, Burger, Salad, Wraps</td>\n",
       "      <td>₹200</td>\n",
       "      <td>₹50</td>\n",
       "      <td>3.5</td>\n",
       "      <td>12</td>\n",
       "      <td>4</td>\n",
       "      <td>30 minutes</td>\n",
       "    </tr>\n",
       "    <tr>\n",
       "      <th>1</th>\n",
       "      <td>ID_2882</td>\n",
       "      <td>Sector 3, Marathalli</td>\n",
       "      <td>Ice Cream, Desserts</td>\n",
       "      <td>₹100</td>\n",
       "      <td>₹50</td>\n",
       "      <td>3.5</td>\n",
       "      <td>11</td>\n",
       "      <td>4</td>\n",
       "      <td>30 minutes</td>\n",
       "    </tr>\n",
       "    <tr>\n",
       "      <th>2</th>\n",
       "      <td>ID_1595</td>\n",
       "      <td>Mumbai Central</td>\n",
       "      <td>Italian, Street Food, Fast Food</td>\n",
       "      <td>₹150</td>\n",
       "      <td>₹50</td>\n",
       "      <td>3.6</td>\n",
       "      <td>99</td>\n",
       "      <td>30</td>\n",
       "      <td>65 minutes</td>\n",
       "    </tr>\n",
       "    <tr>\n",
       "      <th>3</th>\n",
       "      <td>ID_5929</td>\n",
       "      <td>Sector 1, Noida</td>\n",
       "      <td>Mughlai, North Indian, Chinese</td>\n",
       "      <td>₹250</td>\n",
       "      <td>₹99</td>\n",
       "      <td>3.7</td>\n",
       "      <td>176</td>\n",
       "      <td>95</td>\n",
       "      <td>30 minutes</td>\n",
       "    </tr>\n",
       "    <tr>\n",
       "      <th>4</th>\n",
       "      <td>ID_6123</td>\n",
       "      <td>Rmz Centennial, I Gate, Whitefield</td>\n",
       "      <td>Cafe, Beverages</td>\n",
       "      <td>₹200</td>\n",
       "      <td>₹99</td>\n",
       "      <td>3.2</td>\n",
       "      <td>521</td>\n",
       "      <td>235</td>\n",
       "      <td>65 minutes</td>\n",
       "    </tr>\n",
       "  </tbody>\n",
       "</table>\n",
       "</div>"
      ],
      "text/plain": [
       "  Restaurant                             Location  \\\n",
       "0    ID_6321  FTI College, Law College Road, Pune   \n",
       "1    ID_2882                 Sector 3, Marathalli   \n",
       "2    ID_1595                       Mumbai Central   \n",
       "3    ID_5929                      Sector 1, Noida   \n",
       "4    ID_6123   Rmz Centennial, I Gate, Whitefield   \n",
       "\n",
       "                                 Cuisines Average_Cost Minimum_Order Rating  \\\n",
       "0  Fast Food, Rolls, Burger, Salad, Wraps         ₹200           ₹50    3.5   \n",
       "1                     Ice Cream, Desserts         ₹100           ₹50    3.5   \n",
       "2         Italian, Street Food, Fast Food         ₹150           ₹50    3.6   \n",
       "3          Mughlai, North Indian, Chinese         ₹250           ₹99    3.7   \n",
       "4                         Cafe, Beverages         ₹200           ₹99    3.2   \n",
       "\n",
       "  Votes Reviews Delivery_Time  \n",
       "0    12       4    30 minutes  \n",
       "1    11       4    30 minutes  \n",
       "2    99      30    65 minutes  \n",
       "3   176      95    30 minutes  \n",
       "4   521     235    65 minutes  "
      ]
     },
     "execution_count": 5,
     "metadata": {},
     "output_type": "execute_result"
    }
   ],
   "source": [
    "data.head()"
   ]
  },
  {
   "cell_type": "code",
   "execution_count": 6,
   "metadata": {
    "colab": {
     "base_uri": "https://localhost:8080/",
     "height": 171
    },
    "id": "Q3ZXs97zAJwH",
    "outputId": "9e1fc4df-a7e6-4c60-bb36-b7c705cff907"
   },
   "outputs": [
    {
     "data": {
      "text/html": [
       "<div>\n",
       "<style scoped>\n",
       "    .dataframe tbody tr th:only-of-type {\n",
       "        vertical-align: middle;\n",
       "    }\n",
       "\n",
       "    .dataframe tbody tr th {\n",
       "        vertical-align: top;\n",
       "    }\n",
       "\n",
       "    .dataframe thead th {\n",
       "        text-align: right;\n",
       "    }\n",
       "</style>\n",
       "<table border=\"1\" class=\"dataframe\">\n",
       "  <thead>\n",
       "    <tr style=\"text-align: right;\">\n",
       "      <th></th>\n",
       "      <th>Restaurant</th>\n",
       "      <th>Location</th>\n",
       "      <th>Cuisines</th>\n",
       "      <th>Average_Cost</th>\n",
       "      <th>Minimum_Order</th>\n",
       "      <th>Rating</th>\n",
       "      <th>Votes</th>\n",
       "      <th>Reviews</th>\n",
       "      <th>Delivery_Time</th>\n",
       "    </tr>\n",
       "  </thead>\n",
       "  <tbody>\n",
       "    <tr>\n",
       "      <th>count</th>\n",
       "      <td>11094</td>\n",
       "      <td>11094</td>\n",
       "      <td>11094</td>\n",
       "      <td>11094</td>\n",
       "      <td>11094</td>\n",
       "      <td>11094</td>\n",
       "      <td>11094</td>\n",
       "      <td>11094</td>\n",
       "      <td>11094</td>\n",
       "    </tr>\n",
       "    <tr>\n",
       "      <th>unique</th>\n",
       "      <td>7480</td>\n",
       "      <td>35</td>\n",
       "      <td>2179</td>\n",
       "      <td>26</td>\n",
       "      <td>18</td>\n",
       "      <td>33</td>\n",
       "      <td>1103</td>\n",
       "      <td>761</td>\n",
       "      <td>7</td>\n",
       "    </tr>\n",
       "    <tr>\n",
       "      <th>top</th>\n",
       "      <td>ID_7184</td>\n",
       "      <td>Mico Layout, Stage 2, BTM Layout,Bangalore</td>\n",
       "      <td>North Indian</td>\n",
       "      <td>₹200</td>\n",
       "      <td>₹50</td>\n",
       "      <td>-</td>\n",
       "      <td>-</td>\n",
       "      <td>-</td>\n",
       "      <td>30 minutes</td>\n",
       "    </tr>\n",
       "    <tr>\n",
       "      <th>freq</th>\n",
       "      <td>22</td>\n",
       "      <td>947</td>\n",
       "      <td>850</td>\n",
       "      <td>3241</td>\n",
       "      <td>10118</td>\n",
       "      <td>1191</td>\n",
       "      <td>2074</td>\n",
       "      <td>2312</td>\n",
       "      <td>7406</td>\n",
       "    </tr>\n",
       "  </tbody>\n",
       "</table>\n",
       "</div>"
      ],
      "text/plain": [
       "       Restaurant                                    Location      Cuisines  \\\n",
       "count       11094                                       11094         11094   \n",
       "unique       7480                                          35          2179   \n",
       "top       ID_7184  Mico Layout, Stage 2, BTM Layout,Bangalore  North Indian   \n",
       "freq           22                                         947           850   \n",
       "\n",
       "       Average_Cost Minimum_Order Rating  Votes Reviews Delivery_Time  \n",
       "count         11094         11094  11094  11094   11094         11094  \n",
       "unique           26            18     33   1103     761             7  \n",
       "top            ₹200           ₹50      -      -       -    30 minutes  \n",
       "freq           3241         10118   1191   2074    2312          7406  "
      ]
     },
     "execution_count": 6,
     "metadata": {},
     "output_type": "execute_result"
    }
   ],
   "source": [
    "data.describe()"
   ]
  },
  {
   "cell_type": "code",
   "execution_count": 7,
   "metadata": {
    "colab": {
     "base_uri": "https://localhost:8080/"
    },
    "id": "w1-_ndlVFbP9",
    "outputId": "ac902044-b146-4da3-ae78-d90bfa4de662"
   },
   "outputs": [
    {
     "data": {
      "text/plain": [
       "(11094, 9)"
      ]
     },
     "execution_count": 7,
     "metadata": {},
     "output_type": "execute_result"
    }
   ],
   "source": [
    "data.shape"
   ]
  },
  {
   "cell_type": "code",
   "execution_count": 8,
   "metadata": {
    "id": "-iMRcSYK_bbG"
   },
   "outputs": [],
   "source": [
    "data[['Cuisine_1', 'Cuisine_2', 'Cuisine_3', 'Cuisine_4', 'Cuisine_5', 'Cuisine_6', 'Cuisine_7', 'Cuisine_8']] = np.nan"
   ]
  },
  {
   "cell_type": "code",
   "execution_count": 9,
   "metadata": {
    "colab": {
     "base_uri": "https://localhost:8080/",
     "height": 499
    },
    "id": "uogiK1fW_bbO",
    "outputId": "ff569304-decc-49d9-8df7-e17625a931fa"
   },
   "outputs": [
    {
     "data": {
      "text/html": [
       "<div>\n",
       "<style scoped>\n",
       "    .dataframe tbody tr th:only-of-type {\n",
       "        vertical-align: middle;\n",
       "    }\n",
       "\n",
       "    .dataframe tbody tr th {\n",
       "        vertical-align: top;\n",
       "    }\n",
       "\n",
       "    .dataframe thead th {\n",
       "        text-align: right;\n",
       "    }\n",
       "</style>\n",
       "<table border=\"1\" class=\"dataframe\">\n",
       "  <thead>\n",
       "    <tr style=\"text-align: right;\">\n",
       "      <th></th>\n",
       "      <th>Restaurant</th>\n",
       "      <th>Location</th>\n",
       "      <th>Cuisines</th>\n",
       "      <th>Average_Cost</th>\n",
       "      <th>Minimum_Order</th>\n",
       "      <th>Rating</th>\n",
       "      <th>Votes</th>\n",
       "      <th>Reviews</th>\n",
       "      <th>Delivery_Time</th>\n",
       "      <th>Cuisine_1</th>\n",
       "      <th>Cuisine_2</th>\n",
       "      <th>Cuisine_3</th>\n",
       "      <th>Cuisine_4</th>\n",
       "      <th>Cuisine_5</th>\n",
       "      <th>Cuisine_6</th>\n",
       "      <th>Cuisine_7</th>\n",
       "      <th>Cuisine_8</th>\n",
       "    </tr>\n",
       "  </thead>\n",
       "  <tbody>\n",
       "    <tr>\n",
       "      <th>0</th>\n",
       "      <td>ID_6321</td>\n",
       "      <td>FTI College, Law College Road, Pune</td>\n",
       "      <td>Fast Food, Rolls, Burger, Salad, Wraps</td>\n",
       "      <td>₹200</td>\n",
       "      <td>₹50</td>\n",
       "      <td>3.5</td>\n",
       "      <td>12</td>\n",
       "      <td>4</td>\n",
       "      <td>30 minutes</td>\n",
       "      <td>NaN</td>\n",
       "      <td>NaN</td>\n",
       "      <td>NaN</td>\n",
       "      <td>NaN</td>\n",
       "      <td>NaN</td>\n",
       "      <td>NaN</td>\n",
       "      <td>NaN</td>\n",
       "      <td>NaN</td>\n",
       "    </tr>\n",
       "    <tr>\n",
       "      <th>1</th>\n",
       "      <td>ID_2882</td>\n",
       "      <td>Sector 3, Marathalli</td>\n",
       "      <td>Ice Cream, Desserts</td>\n",
       "      <td>₹100</td>\n",
       "      <td>₹50</td>\n",
       "      <td>3.5</td>\n",
       "      <td>11</td>\n",
       "      <td>4</td>\n",
       "      <td>30 minutes</td>\n",
       "      <td>NaN</td>\n",
       "      <td>NaN</td>\n",
       "      <td>NaN</td>\n",
       "      <td>NaN</td>\n",
       "      <td>NaN</td>\n",
       "      <td>NaN</td>\n",
       "      <td>NaN</td>\n",
       "      <td>NaN</td>\n",
       "    </tr>\n",
       "    <tr>\n",
       "      <th>2</th>\n",
       "      <td>ID_1595</td>\n",
       "      <td>Mumbai Central</td>\n",
       "      <td>Italian, Street Food, Fast Food</td>\n",
       "      <td>₹150</td>\n",
       "      <td>₹50</td>\n",
       "      <td>3.6</td>\n",
       "      <td>99</td>\n",
       "      <td>30</td>\n",
       "      <td>65 minutes</td>\n",
       "      <td>NaN</td>\n",
       "      <td>NaN</td>\n",
       "      <td>NaN</td>\n",
       "      <td>NaN</td>\n",
       "      <td>NaN</td>\n",
       "      <td>NaN</td>\n",
       "      <td>NaN</td>\n",
       "      <td>NaN</td>\n",
       "    </tr>\n",
       "    <tr>\n",
       "      <th>3</th>\n",
       "      <td>ID_5929</td>\n",
       "      <td>Sector 1, Noida</td>\n",
       "      <td>Mughlai, North Indian, Chinese</td>\n",
       "      <td>₹250</td>\n",
       "      <td>₹99</td>\n",
       "      <td>3.7</td>\n",
       "      <td>176</td>\n",
       "      <td>95</td>\n",
       "      <td>30 minutes</td>\n",
       "      <td>NaN</td>\n",
       "      <td>NaN</td>\n",
       "      <td>NaN</td>\n",
       "      <td>NaN</td>\n",
       "      <td>NaN</td>\n",
       "      <td>NaN</td>\n",
       "      <td>NaN</td>\n",
       "      <td>NaN</td>\n",
       "    </tr>\n",
       "    <tr>\n",
       "      <th>4</th>\n",
       "      <td>ID_6123</td>\n",
       "      <td>Rmz Centennial, I Gate, Whitefield</td>\n",
       "      <td>Cafe, Beverages</td>\n",
       "      <td>₹200</td>\n",
       "      <td>₹99</td>\n",
       "      <td>3.2</td>\n",
       "      <td>521</td>\n",
       "      <td>235</td>\n",
       "      <td>65 minutes</td>\n",
       "      <td>NaN</td>\n",
       "      <td>NaN</td>\n",
       "      <td>NaN</td>\n",
       "      <td>NaN</td>\n",
       "      <td>NaN</td>\n",
       "      <td>NaN</td>\n",
       "      <td>NaN</td>\n",
       "      <td>NaN</td>\n",
       "    </tr>\n",
       "  </tbody>\n",
       "</table>\n",
       "</div>"
      ],
      "text/plain": [
       "  Restaurant                             Location  \\\n",
       "0    ID_6321  FTI College, Law College Road, Pune   \n",
       "1    ID_2882                 Sector 3, Marathalli   \n",
       "2    ID_1595                       Mumbai Central   \n",
       "3    ID_5929                      Sector 1, Noida   \n",
       "4    ID_6123   Rmz Centennial, I Gate, Whitefield   \n",
       "\n",
       "                                 Cuisines Average_Cost Minimum_Order Rating  \\\n",
       "0  Fast Food, Rolls, Burger, Salad, Wraps         ₹200           ₹50    3.5   \n",
       "1                     Ice Cream, Desserts         ₹100           ₹50    3.5   \n",
       "2         Italian, Street Food, Fast Food         ₹150           ₹50    3.6   \n",
       "3          Mughlai, North Indian, Chinese         ₹250           ₹99    3.7   \n",
       "4                         Cafe, Beverages         ₹200           ₹99    3.2   \n",
       "\n",
       "  Votes Reviews Delivery_Time  Cuisine_1  Cuisine_2  Cuisine_3  Cuisine_4  \\\n",
       "0    12       4    30 minutes        NaN        NaN        NaN        NaN   \n",
       "1    11       4    30 minutes        NaN        NaN        NaN        NaN   \n",
       "2    99      30    65 minutes        NaN        NaN        NaN        NaN   \n",
       "3   176      95    30 minutes        NaN        NaN        NaN        NaN   \n",
       "4   521     235    65 minutes        NaN        NaN        NaN        NaN   \n",
       "\n",
       "   Cuisine_5  Cuisine_6  Cuisine_7  Cuisine_8  \n",
       "0        NaN        NaN        NaN        NaN  \n",
       "1        NaN        NaN        NaN        NaN  \n",
       "2        NaN        NaN        NaN        NaN  \n",
       "3        NaN        NaN        NaN        NaN  \n",
       "4        NaN        NaN        NaN        NaN  "
      ]
     },
     "execution_count": 9,
     "metadata": {},
     "output_type": "execute_result"
    }
   ],
   "source": [
    "data.head()"
   ]
  },
  {
   "cell_type": "code",
   "execution_count": 10,
   "metadata": {
    "id": "dlrxNCBF_bbU"
   },
   "outputs": [],
   "source": [
    "data[['Cuisine_1', 'Cuisine_2', 'Cuisine_3', 'Cuisine_4', 'Cuisine_5', 'Cuisine_6', 'Cuisine_7', 'Cuisine_8']] = data.Cuisines.str.split(', ',expand=True) "
   ]
  },
  {
   "cell_type": "code",
   "execution_count": 11,
   "metadata": {
    "colab": {
     "base_uri": "https://localhost:8080/",
     "height": 499
    },
    "id": "orxPD5id_bbZ",
    "outputId": "6fd05c06-3505-4b5d-995f-8b8bf8543e0d"
   },
   "outputs": [
    {
     "data": {
      "text/html": [
       "<div>\n",
       "<style scoped>\n",
       "    .dataframe tbody tr th:only-of-type {\n",
       "        vertical-align: middle;\n",
       "    }\n",
       "\n",
       "    .dataframe tbody tr th {\n",
       "        vertical-align: top;\n",
       "    }\n",
       "\n",
       "    .dataframe thead th {\n",
       "        text-align: right;\n",
       "    }\n",
       "</style>\n",
       "<table border=\"1\" class=\"dataframe\">\n",
       "  <thead>\n",
       "    <tr style=\"text-align: right;\">\n",
       "      <th></th>\n",
       "      <th>Restaurant</th>\n",
       "      <th>Location</th>\n",
       "      <th>Cuisines</th>\n",
       "      <th>Average_Cost</th>\n",
       "      <th>Minimum_Order</th>\n",
       "      <th>Rating</th>\n",
       "      <th>Votes</th>\n",
       "      <th>Reviews</th>\n",
       "      <th>Delivery_Time</th>\n",
       "      <th>Cuisine_1</th>\n",
       "      <th>Cuisine_2</th>\n",
       "      <th>Cuisine_3</th>\n",
       "      <th>Cuisine_4</th>\n",
       "      <th>Cuisine_5</th>\n",
       "      <th>Cuisine_6</th>\n",
       "      <th>Cuisine_7</th>\n",
       "      <th>Cuisine_8</th>\n",
       "    </tr>\n",
       "  </thead>\n",
       "  <tbody>\n",
       "    <tr>\n",
       "      <th>0</th>\n",
       "      <td>ID_6321</td>\n",
       "      <td>FTI College, Law College Road, Pune</td>\n",
       "      <td>Fast Food, Rolls, Burger, Salad, Wraps</td>\n",
       "      <td>₹200</td>\n",
       "      <td>₹50</td>\n",
       "      <td>3.5</td>\n",
       "      <td>12</td>\n",
       "      <td>4</td>\n",
       "      <td>30 minutes</td>\n",
       "      <td>Fast Food</td>\n",
       "      <td>Rolls</td>\n",
       "      <td>Burger</td>\n",
       "      <td>Salad</td>\n",
       "      <td>Wraps</td>\n",
       "      <td>None</td>\n",
       "      <td>None</td>\n",
       "      <td>None</td>\n",
       "    </tr>\n",
       "    <tr>\n",
       "      <th>1</th>\n",
       "      <td>ID_2882</td>\n",
       "      <td>Sector 3, Marathalli</td>\n",
       "      <td>Ice Cream, Desserts</td>\n",
       "      <td>₹100</td>\n",
       "      <td>₹50</td>\n",
       "      <td>3.5</td>\n",
       "      <td>11</td>\n",
       "      <td>4</td>\n",
       "      <td>30 minutes</td>\n",
       "      <td>Ice Cream</td>\n",
       "      <td>Desserts</td>\n",
       "      <td>None</td>\n",
       "      <td>None</td>\n",
       "      <td>None</td>\n",
       "      <td>None</td>\n",
       "      <td>None</td>\n",
       "      <td>None</td>\n",
       "    </tr>\n",
       "    <tr>\n",
       "      <th>2</th>\n",
       "      <td>ID_1595</td>\n",
       "      <td>Mumbai Central</td>\n",
       "      <td>Italian, Street Food, Fast Food</td>\n",
       "      <td>₹150</td>\n",
       "      <td>₹50</td>\n",
       "      <td>3.6</td>\n",
       "      <td>99</td>\n",
       "      <td>30</td>\n",
       "      <td>65 minutes</td>\n",
       "      <td>Italian</td>\n",
       "      <td>Street Food</td>\n",
       "      <td>Fast Food</td>\n",
       "      <td>None</td>\n",
       "      <td>None</td>\n",
       "      <td>None</td>\n",
       "      <td>None</td>\n",
       "      <td>None</td>\n",
       "    </tr>\n",
       "    <tr>\n",
       "      <th>3</th>\n",
       "      <td>ID_5929</td>\n",
       "      <td>Sector 1, Noida</td>\n",
       "      <td>Mughlai, North Indian, Chinese</td>\n",
       "      <td>₹250</td>\n",
       "      <td>₹99</td>\n",
       "      <td>3.7</td>\n",
       "      <td>176</td>\n",
       "      <td>95</td>\n",
       "      <td>30 minutes</td>\n",
       "      <td>Mughlai</td>\n",
       "      <td>North Indian</td>\n",
       "      <td>Chinese</td>\n",
       "      <td>None</td>\n",
       "      <td>None</td>\n",
       "      <td>None</td>\n",
       "      <td>None</td>\n",
       "      <td>None</td>\n",
       "    </tr>\n",
       "    <tr>\n",
       "      <th>4</th>\n",
       "      <td>ID_6123</td>\n",
       "      <td>Rmz Centennial, I Gate, Whitefield</td>\n",
       "      <td>Cafe, Beverages</td>\n",
       "      <td>₹200</td>\n",
       "      <td>₹99</td>\n",
       "      <td>3.2</td>\n",
       "      <td>521</td>\n",
       "      <td>235</td>\n",
       "      <td>65 minutes</td>\n",
       "      <td>Cafe</td>\n",
       "      <td>Beverages</td>\n",
       "      <td>None</td>\n",
       "      <td>None</td>\n",
       "      <td>None</td>\n",
       "      <td>None</td>\n",
       "      <td>None</td>\n",
       "      <td>None</td>\n",
       "    </tr>\n",
       "  </tbody>\n",
       "</table>\n",
       "</div>"
      ],
      "text/plain": [
       "  Restaurant                             Location  \\\n",
       "0    ID_6321  FTI College, Law College Road, Pune   \n",
       "1    ID_2882                 Sector 3, Marathalli   \n",
       "2    ID_1595                       Mumbai Central   \n",
       "3    ID_5929                      Sector 1, Noida   \n",
       "4    ID_6123   Rmz Centennial, I Gate, Whitefield   \n",
       "\n",
       "                                 Cuisines Average_Cost Minimum_Order Rating  \\\n",
       "0  Fast Food, Rolls, Burger, Salad, Wraps         ₹200           ₹50    3.5   \n",
       "1                     Ice Cream, Desserts         ₹100           ₹50    3.5   \n",
       "2         Italian, Street Food, Fast Food         ₹150           ₹50    3.6   \n",
       "3          Mughlai, North Indian, Chinese         ₹250           ₹99    3.7   \n",
       "4                         Cafe, Beverages         ₹200           ₹99    3.2   \n",
       "\n",
       "  Votes Reviews Delivery_Time  Cuisine_1     Cuisine_2  Cuisine_3 Cuisine_4  \\\n",
       "0    12       4    30 minutes  Fast Food         Rolls     Burger     Salad   \n",
       "1    11       4    30 minutes  Ice Cream      Desserts       None      None   \n",
       "2    99      30    65 minutes    Italian   Street Food  Fast Food      None   \n",
       "3   176      95    30 minutes    Mughlai  North Indian    Chinese      None   \n",
       "4   521     235    65 minutes       Cafe     Beverages       None      None   \n",
       "\n",
       "  Cuisine_5 Cuisine_6 Cuisine_7 Cuisine_8  \n",
       "0     Wraps      None      None      None  \n",
       "1      None      None      None      None  \n",
       "2      None      None      None      None  \n",
       "3      None      None      None      None  \n",
       "4      None      None      None      None  "
      ]
     },
     "execution_count": 11,
     "metadata": {},
     "output_type": "execute_result"
    }
   ],
   "source": [
    "data.head()"
   ]
  },
  {
   "cell_type": "code",
   "execution_count": 12,
   "metadata": {
    "id": "PY6AWb63_bbf"
   },
   "outputs": [],
   "source": [
    "data.drop(columns=['Cuisines'], axis=1, inplace=True)"
   ]
  },
  {
   "cell_type": "markdown",
   "metadata": {
    "id": "B4Wg0hh5_bbk"
   },
   "source": [
    "<h4>Label Encoding for Location variable for ML model"
   ]
  },
  {
   "cell_type": "code",
   "execution_count": 13,
   "metadata": {
    "id": "_mQ-vQiKJWhd"
   },
   "outputs": [],
   "source": [
    "location_dict = {}\n",
    "for i,location in zip(range(len(data['Location'].unique())), data['Location'].unique()):\n",
    "    location_dict[location] = i"
   ]
  },
  {
   "cell_type": "code",
   "execution_count": 14,
   "metadata": {
    "id": "FHIKhsBF_bbr"
   },
   "outputs": [],
   "source": [
    "data.replace(location_dict, inplace=True)"
   ]
  },
  {
   "cell_type": "markdown",
   "metadata": {
    "id": "sw6BIIpiXn5B"
   },
   "source": [
    "Label Encoding for Cuisine variables for ML model"
   ]
  },
  {
   "cell_type": "code",
   "execution_count": 15,
   "metadata": {
    "id": "UDhpPngdJyIn"
   },
   "outputs": [],
   "source": [
    "cuisine_dict = {}\n",
    "for i,cuisine in zip(range(len(data['Cuisine_1'].unique())), data['Cuisine_1'].unique()):\n",
    "    cuisine_dict[cuisine] = i\n",
    "data.replace(cuisine_dict, inplace=True)"
   ]
  },
  {
   "cell_type": "code",
   "execution_count": 16,
   "metadata": {
    "id": "QzSpTukj_bb2"
   },
   "outputs": [],
   "source": [
    "strs = list(set([elm for elm in data['Cuisine_2'] if isinstance(elm, str)]))"
   ]
  },
  {
   "cell_type": "code",
   "execution_count": 17,
   "metadata": {
    "id": "3bam_JLl_bb7"
   },
   "outputs": [],
   "source": [
    "for i,cuisine in zip(range(85, len(strs)+85), strs):\n",
    "    cuisine_dict[cuisine] = i\n",
    "data.replace(cuisine_dict, inplace=True)"
   ]
  },
  {
   "cell_type": "code",
   "execution_count": 18,
   "metadata": {
    "id": "4yVtAW1lJv9Y"
   },
   "outputs": [],
   "source": [
    "strs_3 = list(set([elm for elm in data['Cuisine_3'] if isinstance(elm, str)]))\n",
    "for i,cuisine in zip(range(94, len(strs_3)+94), strs_3):\n",
    "    cuisine_dict[cuisine] = i\n",
    "data.replace(cuisine_dict, inplace=True)"
   ]
  },
  {
   "cell_type": "code",
   "execution_count": 19,
   "metadata": {
    "colab": {
     "base_uri": "https://localhost:8080/",
     "height": 222
    },
    "id": "HpqNS5DR_bcW",
    "outputId": "0f527d55-2914-4109-c0b8-184c869fa10c"
   },
   "outputs": [
    {
     "data": {
      "text/html": [
       "<div>\n",
       "<style scoped>\n",
       "    .dataframe tbody tr th:only-of-type {\n",
       "        vertical-align: middle;\n",
       "    }\n",
       "\n",
       "    .dataframe tbody tr th {\n",
       "        vertical-align: top;\n",
       "    }\n",
       "\n",
       "    .dataframe thead th {\n",
       "        text-align: right;\n",
       "    }\n",
       "</style>\n",
       "<table border=\"1\" class=\"dataframe\">\n",
       "  <thead>\n",
       "    <tr style=\"text-align: right;\">\n",
       "      <th></th>\n",
       "      <th>Restaurant</th>\n",
       "      <th>Location</th>\n",
       "      <th>Average_Cost</th>\n",
       "      <th>Minimum_Order</th>\n",
       "      <th>Rating</th>\n",
       "      <th>Votes</th>\n",
       "      <th>Reviews</th>\n",
       "      <th>Delivery_Time</th>\n",
       "      <th>Cuisine_1</th>\n",
       "      <th>Cuisine_2</th>\n",
       "      <th>Cuisine_3</th>\n",
       "      <th>Cuisine_4</th>\n",
       "      <th>Cuisine_5</th>\n",
       "      <th>Cuisine_6</th>\n",
       "      <th>Cuisine_7</th>\n",
       "      <th>Cuisine_8</th>\n",
       "    </tr>\n",
       "  </thead>\n",
       "  <tbody>\n",
       "    <tr>\n",
       "      <th>0</th>\n",
       "      <td>ID_6321</td>\n",
       "      <td>0</td>\n",
       "      <td>₹200</td>\n",
       "      <td>₹50</td>\n",
       "      <td>3.5</td>\n",
       "      <td>12</td>\n",
       "      <td>4</td>\n",
       "      <td>30 minutes</td>\n",
       "      <td>0</td>\n",
       "      <td>20.0</td>\n",
       "      <td>10.0</td>\n",
       "      <td>34.0</td>\n",
       "      <td>44.0</td>\n",
       "      <td>-1.0</td>\n",
       "      <td>-1.0</td>\n",
       "      <td>-1.0</td>\n",
       "    </tr>\n",
       "    <tr>\n",
       "      <th>1</th>\n",
       "      <td>ID_2882</td>\n",
       "      <td>1</td>\n",
       "      <td>₹100</td>\n",
       "      <td>₹50</td>\n",
       "      <td>3.5</td>\n",
       "      <td>11</td>\n",
       "      <td>4</td>\n",
       "      <td>30 minutes</td>\n",
       "      <td>1</td>\n",
       "      <td>13.0</td>\n",
       "      <td>-1.0</td>\n",
       "      <td>-1.0</td>\n",
       "      <td>-1.0</td>\n",
       "      <td>-1.0</td>\n",
       "      <td>-1.0</td>\n",
       "      <td>-1.0</td>\n",
       "    </tr>\n",
       "    <tr>\n",
       "      <th>2</th>\n",
       "      <td>ID_1595</td>\n",
       "      <td>2</td>\n",
       "      <td>₹150</td>\n",
       "      <td>₹50</td>\n",
       "      <td>3.6</td>\n",
       "      <td>99</td>\n",
       "      <td>30</td>\n",
       "      <td>65 minutes</td>\n",
       "      <td>2</td>\n",
       "      <td>16.0</td>\n",
       "      <td>0.0</td>\n",
       "      <td>-1.0</td>\n",
       "      <td>-1.0</td>\n",
       "      <td>-1.0</td>\n",
       "      <td>-1.0</td>\n",
       "      <td>-1.0</td>\n",
       "    </tr>\n",
       "    <tr>\n",
       "      <th>3</th>\n",
       "      <td>ID_5929</td>\n",
       "      <td>3</td>\n",
       "      <td>₹250</td>\n",
       "      <td>₹99</td>\n",
       "      <td>3.7</td>\n",
       "      <td>176</td>\n",
       "      <td>95</td>\n",
       "      <td>30 minutes</td>\n",
       "      <td>3</td>\n",
       "      <td>9.0</td>\n",
       "      <td>7.0</td>\n",
       "      <td>-1.0</td>\n",
       "      <td>-1.0</td>\n",
       "      <td>-1.0</td>\n",
       "      <td>-1.0</td>\n",
       "      <td>-1.0</td>\n",
       "    </tr>\n",
       "    <tr>\n",
       "      <th>4</th>\n",
       "      <td>ID_6123</td>\n",
       "      <td>4</td>\n",
       "      <td>₹200</td>\n",
       "      <td>₹99</td>\n",
       "      <td>3.2</td>\n",
       "      <td>521</td>\n",
       "      <td>235</td>\n",
       "      <td>65 minutes</td>\n",
       "      <td>4</td>\n",
       "      <td>6.0</td>\n",
       "      <td>-1.0</td>\n",
       "      <td>-1.0</td>\n",
       "      <td>-1.0</td>\n",
       "      <td>-1.0</td>\n",
       "      <td>-1.0</td>\n",
       "      <td>-1.0</td>\n",
       "    </tr>\n",
       "  </tbody>\n",
       "</table>\n",
       "</div>"
      ],
      "text/plain": [
       "  Restaurant  Location Average_Cost Minimum_Order Rating Votes Reviews  \\\n",
       "0    ID_6321         0         ₹200           ₹50    3.5    12       4   \n",
       "1    ID_2882         1         ₹100           ₹50    3.5    11       4   \n",
       "2    ID_1595         2         ₹150           ₹50    3.6    99      30   \n",
       "3    ID_5929         3         ₹250           ₹99    3.7   176      95   \n",
       "4    ID_6123         4         ₹200           ₹99    3.2   521     235   \n",
       "\n",
       "  Delivery_Time  Cuisine_1  Cuisine_2  Cuisine_3  Cuisine_4  Cuisine_5  \\\n",
       "0    30 minutes          0       20.0       10.0       34.0       44.0   \n",
       "1    30 minutes          1       13.0       -1.0       -1.0       -1.0   \n",
       "2    65 minutes          2       16.0        0.0       -1.0       -1.0   \n",
       "3    30 minutes          3        9.0        7.0       -1.0       -1.0   \n",
       "4    65 minutes          4        6.0       -1.0       -1.0       -1.0   \n",
       "\n",
       "   Cuisine_6  Cuisine_7  Cuisine_8  \n",
       "0       -1.0       -1.0       -1.0  \n",
       "1       -1.0       -1.0       -1.0  \n",
       "2       -1.0       -1.0       -1.0  \n",
       "3       -1.0       -1.0       -1.0  \n",
       "4       -1.0       -1.0       -1.0  "
      ]
     },
     "execution_count": 19,
     "metadata": {},
     "output_type": "execute_result"
    }
   ],
   "source": [
    "strs_4 = ['Greek', 'Israeli','Poké', 'Sri Lankan']\n",
    "for i,cuisine in zip(range(97, len(strs_4)+97), strs_4):\n",
    "    cuisine_dict[cuisine] = i\n",
    "data.replace(cuisine_dict, inplace=True)\n",
    "data.fillna(-1, inplace=True)\n",
    "data.head()"
   ]
  },
  {
   "cell_type": "code",
   "execution_count": 20,
   "metadata": {
    "colab": {
     "base_uri": "https://localhost:8080/",
     "height": 294
    },
    "id": "rkTNuV4xKJ_4",
    "outputId": "5dfb309f-61bc-49f1-913c-06cd4790e3db"
   },
   "outputs": [
    {
     "data": {
      "text/html": [
       "<div>\n",
       "<style scoped>\n",
       "    .dataframe tbody tr th:only-of-type {\n",
       "        vertical-align: middle;\n",
       "    }\n",
       "\n",
       "    .dataframe tbody tr th {\n",
       "        vertical-align: top;\n",
       "    }\n",
       "\n",
       "    .dataframe thead th {\n",
       "        text-align: right;\n",
       "    }\n",
       "</style>\n",
       "<table border=\"1\" class=\"dataframe\">\n",
       "  <thead>\n",
       "    <tr style=\"text-align: right;\">\n",
       "      <th></th>\n",
       "      <th>Location</th>\n",
       "      <th>Cuisine_1</th>\n",
       "      <th>Cuisine_2</th>\n",
       "      <th>Cuisine_3</th>\n",
       "      <th>Cuisine_4</th>\n",
       "      <th>Cuisine_5</th>\n",
       "      <th>Cuisine_6</th>\n",
       "      <th>Cuisine_7</th>\n",
       "      <th>Cuisine_8</th>\n",
       "    </tr>\n",
       "  </thead>\n",
       "  <tbody>\n",
       "    <tr>\n",
       "      <th>count</th>\n",
       "      <td>11094.000000</td>\n",
       "      <td>11094.000000</td>\n",
       "      <td>11094.000000</td>\n",
       "      <td>11094.000000</td>\n",
       "      <td>11094.000000</td>\n",
       "      <td>11094.000000</td>\n",
       "      <td>11094.000000</td>\n",
       "      <td>11094.000000</td>\n",
       "      <td>11094.000000</td>\n",
       "    </tr>\n",
       "    <tr>\n",
       "      <th>mean</th>\n",
       "      <td>12.654318</td>\n",
       "      <td>11.453398</td>\n",
       "      <td>8.528123</td>\n",
       "      <td>4.737696</td>\n",
       "      <td>1.900397</td>\n",
       "      <td>0.245178</td>\n",
       "      <td>-0.491257</td>\n",
       "      <td>-0.780151</td>\n",
       "      <td>-0.940058</td>\n",
       "    </tr>\n",
       "    <tr>\n",
       "      <th>std</th>\n",
       "      <td>8.725133</td>\n",
       "      <td>11.452147</td>\n",
       "      <td>13.779348</td>\n",
       "      <td>12.718948</td>\n",
       "      <td>9.933144</td>\n",
       "      <td>6.729832</td>\n",
       "      <td>4.821717</td>\n",
       "      <td>3.165736</td>\n",
       "      <td>1.155499</td>\n",
       "    </tr>\n",
       "    <tr>\n",
       "      <th>min</th>\n",
       "      <td>0.000000</td>\n",
       "      <td>0.000000</td>\n",
       "      <td>-1.000000</td>\n",
       "      <td>-1.000000</td>\n",
       "      <td>-1.000000</td>\n",
       "      <td>-1.000000</td>\n",
       "      <td>-1.000000</td>\n",
       "      <td>-1.000000</td>\n",
       "      <td>-1.000000</td>\n",
       "    </tr>\n",
       "    <tr>\n",
       "      <th>25%</th>\n",
       "      <td>5.000000</td>\n",
       "      <td>6.000000</td>\n",
       "      <td>-1.000000</td>\n",
       "      <td>-1.000000</td>\n",
       "      <td>-1.000000</td>\n",
       "      <td>-1.000000</td>\n",
       "      <td>-1.000000</td>\n",
       "      <td>-1.000000</td>\n",
       "      <td>-1.000000</td>\n",
       "    </tr>\n",
       "    <tr>\n",
       "      <th>50%</th>\n",
       "      <td>12.000000</td>\n",
       "      <td>9.000000</td>\n",
       "      <td>6.000000</td>\n",
       "      <td>-1.000000</td>\n",
       "      <td>-1.000000</td>\n",
       "      <td>-1.000000</td>\n",
       "      <td>-1.000000</td>\n",
       "      <td>-1.000000</td>\n",
       "      <td>-1.000000</td>\n",
       "    </tr>\n",
       "    <tr>\n",
       "      <th>75%</th>\n",
       "      <td>18.000000</td>\n",
       "      <td>13.000000</td>\n",
       "      <td>9.000000</td>\n",
       "      <td>6.000000</td>\n",
       "      <td>-1.000000</td>\n",
       "      <td>-1.000000</td>\n",
       "      <td>-1.000000</td>\n",
       "      <td>-1.000000</td>\n",
       "      <td>-1.000000</td>\n",
       "    </tr>\n",
       "    <tr>\n",
       "      <th>max</th>\n",
       "      <td>34.000000</td>\n",
       "      <td>84.000000</td>\n",
       "      <td>93.000000</td>\n",
       "      <td>96.000000</td>\n",
       "      <td>99.000000</td>\n",
       "      <td>98.000000</td>\n",
       "      <td>100.000000</td>\n",
       "      <td>90.000000</td>\n",
       "      <td>51.000000</td>\n",
       "    </tr>\n",
       "  </tbody>\n",
       "</table>\n",
       "</div>"
      ],
      "text/plain": [
       "           Location     Cuisine_1     Cuisine_2     Cuisine_3     Cuisine_4  \\\n",
       "count  11094.000000  11094.000000  11094.000000  11094.000000  11094.000000   \n",
       "mean      12.654318     11.453398      8.528123      4.737696      1.900397   \n",
       "std        8.725133     11.452147     13.779348     12.718948      9.933144   \n",
       "min        0.000000      0.000000     -1.000000     -1.000000     -1.000000   \n",
       "25%        5.000000      6.000000     -1.000000     -1.000000     -1.000000   \n",
       "50%       12.000000      9.000000      6.000000     -1.000000     -1.000000   \n",
       "75%       18.000000     13.000000      9.000000      6.000000     -1.000000   \n",
       "max       34.000000     84.000000     93.000000     96.000000     99.000000   \n",
       "\n",
       "          Cuisine_5     Cuisine_6     Cuisine_7     Cuisine_8  \n",
       "count  11094.000000  11094.000000  11094.000000  11094.000000  \n",
       "mean       0.245178     -0.491257     -0.780151     -0.940058  \n",
       "std        6.729832      4.821717      3.165736      1.155499  \n",
       "min       -1.000000     -1.000000     -1.000000     -1.000000  \n",
       "25%       -1.000000     -1.000000     -1.000000     -1.000000  \n",
       "50%       -1.000000     -1.000000     -1.000000     -1.000000  \n",
       "75%       -1.000000     -1.000000     -1.000000     -1.000000  \n",
       "max       98.000000    100.000000     90.000000     51.000000  "
      ]
     },
     "execution_count": 20,
     "metadata": {},
     "output_type": "execute_result"
    }
   ],
   "source": [
    "data.describe()"
   ]
  },
  {
   "cell_type": "code",
   "execution_count": 21,
   "metadata": {
    "colab": {
     "base_uri": "https://localhost:8080/"
    },
    "id": "RwVsH-inKktl",
    "outputId": "b0dd67c6-1ff2-4efa-b5ff-683db3dcc086"
   },
   "outputs": [
    {
     "name": "stdout",
     "output_type": "stream",
     "text": [
      "<class 'pandas.core.frame.DataFrame'>\n",
      "RangeIndex: 11094 entries, 0 to 11093\n",
      "Data columns (total 16 columns):\n",
      " #   Column         Non-Null Count  Dtype  \n",
      "---  ------         --------------  -----  \n",
      " 0   Restaurant     11094 non-null  object \n",
      " 1   Location       11094 non-null  int64  \n",
      " 2   Average_Cost   11094 non-null  object \n",
      " 3   Minimum_Order  11094 non-null  object \n",
      " 4   Rating         11094 non-null  object \n",
      " 5   Votes          11094 non-null  object \n",
      " 6   Reviews        11094 non-null  object \n",
      " 7   Delivery_Time  11094 non-null  object \n",
      " 8   Cuisine_1      11094 non-null  int64  \n",
      " 9   Cuisine_2      11094 non-null  float64\n",
      " 10  Cuisine_3      11094 non-null  float64\n",
      " 11  Cuisine_4      11094 non-null  float64\n",
      " 12  Cuisine_5      11094 non-null  float64\n",
      " 13  Cuisine_6      11094 non-null  float64\n",
      " 14  Cuisine_7      11094 non-null  float64\n",
      " 15  Cuisine_8      11094 non-null  float64\n",
      "dtypes: float64(7), int64(2), object(7)\n",
      "memory usage: 1.4+ MB\n"
     ]
    }
   ],
   "source": [
    "data.info()"
   ]
  },
  {
   "cell_type": "markdown",
   "metadata": {
    "id": "j88QFsx1_bcn"
   },
   "source": [
    "<h3>Removing 'minutes' in Delivery Time column"
   ]
  },
  {
   "cell_type": "code",
   "execution_count": 22,
   "metadata": {
    "id": "HNrfzSbbK1r6"
   },
   "outputs": [],
   "source": [
    "data['Delivery_Time'] = data['Delivery_Time'].str.replace(r'\\D', '').astype(int)"
   ]
  },
  {
   "cell_type": "code",
   "execution_count": 23,
   "metadata": {
    "colab": {
     "base_uri": "https://localhost:8080/",
     "height": 222
    },
    "id": "ngEDNlndMAC6",
    "outputId": "9a73d51d-3fa2-47f2-d581-411374abbc81"
   },
   "outputs": [
    {
     "data": {
      "text/html": [
       "<div>\n",
       "<style scoped>\n",
       "    .dataframe tbody tr th:only-of-type {\n",
       "        vertical-align: middle;\n",
       "    }\n",
       "\n",
       "    .dataframe tbody tr th {\n",
       "        vertical-align: top;\n",
       "    }\n",
       "\n",
       "    .dataframe thead th {\n",
       "        text-align: right;\n",
       "    }\n",
       "</style>\n",
       "<table border=\"1\" class=\"dataframe\">\n",
       "  <thead>\n",
       "    <tr style=\"text-align: right;\">\n",
       "      <th></th>\n",
       "      <th>Restaurant</th>\n",
       "      <th>Location</th>\n",
       "      <th>Average_Cost</th>\n",
       "      <th>Minimum_Order</th>\n",
       "      <th>Rating</th>\n",
       "      <th>Votes</th>\n",
       "      <th>Reviews</th>\n",
       "      <th>Delivery_Time</th>\n",
       "      <th>Cuisine_1</th>\n",
       "      <th>Cuisine_2</th>\n",
       "      <th>Cuisine_3</th>\n",
       "      <th>Cuisine_4</th>\n",
       "      <th>Cuisine_5</th>\n",
       "      <th>Cuisine_6</th>\n",
       "      <th>Cuisine_7</th>\n",
       "      <th>Cuisine_8</th>\n",
       "    </tr>\n",
       "  </thead>\n",
       "  <tbody>\n",
       "    <tr>\n",
       "      <th>0</th>\n",
       "      <td>ID_6321</td>\n",
       "      <td>0</td>\n",
       "      <td>₹200</td>\n",
       "      <td>₹50</td>\n",
       "      <td>3.5</td>\n",
       "      <td>12</td>\n",
       "      <td>4</td>\n",
       "      <td>30</td>\n",
       "      <td>0</td>\n",
       "      <td>20.0</td>\n",
       "      <td>10.0</td>\n",
       "      <td>34.0</td>\n",
       "      <td>44.0</td>\n",
       "      <td>-1.0</td>\n",
       "      <td>-1.0</td>\n",
       "      <td>-1.0</td>\n",
       "    </tr>\n",
       "    <tr>\n",
       "      <th>1</th>\n",
       "      <td>ID_2882</td>\n",
       "      <td>1</td>\n",
       "      <td>₹100</td>\n",
       "      <td>₹50</td>\n",
       "      <td>3.5</td>\n",
       "      <td>11</td>\n",
       "      <td>4</td>\n",
       "      <td>30</td>\n",
       "      <td>1</td>\n",
       "      <td>13.0</td>\n",
       "      <td>-1.0</td>\n",
       "      <td>-1.0</td>\n",
       "      <td>-1.0</td>\n",
       "      <td>-1.0</td>\n",
       "      <td>-1.0</td>\n",
       "      <td>-1.0</td>\n",
       "    </tr>\n",
       "    <tr>\n",
       "      <th>2</th>\n",
       "      <td>ID_1595</td>\n",
       "      <td>2</td>\n",
       "      <td>₹150</td>\n",
       "      <td>₹50</td>\n",
       "      <td>3.6</td>\n",
       "      <td>99</td>\n",
       "      <td>30</td>\n",
       "      <td>65</td>\n",
       "      <td>2</td>\n",
       "      <td>16.0</td>\n",
       "      <td>0.0</td>\n",
       "      <td>-1.0</td>\n",
       "      <td>-1.0</td>\n",
       "      <td>-1.0</td>\n",
       "      <td>-1.0</td>\n",
       "      <td>-1.0</td>\n",
       "    </tr>\n",
       "    <tr>\n",
       "      <th>3</th>\n",
       "      <td>ID_5929</td>\n",
       "      <td>3</td>\n",
       "      <td>₹250</td>\n",
       "      <td>₹99</td>\n",
       "      <td>3.7</td>\n",
       "      <td>176</td>\n",
       "      <td>95</td>\n",
       "      <td>30</td>\n",
       "      <td>3</td>\n",
       "      <td>9.0</td>\n",
       "      <td>7.0</td>\n",
       "      <td>-1.0</td>\n",
       "      <td>-1.0</td>\n",
       "      <td>-1.0</td>\n",
       "      <td>-1.0</td>\n",
       "      <td>-1.0</td>\n",
       "    </tr>\n",
       "    <tr>\n",
       "      <th>4</th>\n",
       "      <td>ID_6123</td>\n",
       "      <td>4</td>\n",
       "      <td>₹200</td>\n",
       "      <td>₹99</td>\n",
       "      <td>3.2</td>\n",
       "      <td>521</td>\n",
       "      <td>235</td>\n",
       "      <td>65</td>\n",
       "      <td>4</td>\n",
       "      <td>6.0</td>\n",
       "      <td>-1.0</td>\n",
       "      <td>-1.0</td>\n",
       "      <td>-1.0</td>\n",
       "      <td>-1.0</td>\n",
       "      <td>-1.0</td>\n",
       "      <td>-1.0</td>\n",
       "    </tr>\n",
       "  </tbody>\n",
       "</table>\n",
       "</div>"
      ],
      "text/plain": [
       "  Restaurant  Location Average_Cost Minimum_Order Rating Votes Reviews  \\\n",
       "0    ID_6321         0         ₹200           ₹50    3.5    12       4   \n",
       "1    ID_2882         1         ₹100           ₹50    3.5    11       4   \n",
       "2    ID_1595         2         ₹150           ₹50    3.6    99      30   \n",
       "3    ID_5929         3         ₹250           ₹99    3.7   176      95   \n",
       "4    ID_6123         4         ₹200           ₹99    3.2   521     235   \n",
       "\n",
       "   Delivery_Time  Cuisine_1  Cuisine_2  Cuisine_3  Cuisine_4  Cuisine_5  \\\n",
       "0             30          0       20.0       10.0       34.0       44.0   \n",
       "1             30          1       13.0       -1.0       -1.0       -1.0   \n",
       "2             65          2       16.0        0.0       -1.0       -1.0   \n",
       "3             30          3        9.0        7.0       -1.0       -1.0   \n",
       "4             65          4        6.0       -1.0       -1.0       -1.0   \n",
       "\n",
       "   Cuisine_6  Cuisine_7  Cuisine_8  \n",
       "0       -1.0       -1.0       -1.0  \n",
       "1       -1.0       -1.0       -1.0  \n",
       "2       -1.0       -1.0       -1.0  \n",
       "3       -1.0       -1.0       -1.0  \n",
       "4       -1.0       -1.0       -1.0  "
      ]
     },
     "execution_count": 23,
     "metadata": {},
     "output_type": "execute_result"
    }
   ],
   "source": [
    "data.head()"
   ]
  },
  {
   "cell_type": "markdown",
   "metadata": {
    "id": "G2FVEP7s_bc0"
   },
   "source": [
    "<h3>Removing rupees symbol in cost variables"
   ]
  },
  {
   "cell_type": "code",
   "execution_count": 24,
   "metadata": {
    "id": "R8Ird8yhMEj4"
   },
   "outputs": [],
   "source": [
    "data['Average_Cost'] = data['Average_Cost'].str.replace(r'\\D', '')\n",
    "data['Minimum_Order'] = data['Minimum_Order'].str.replace(r'\\D', '')"
   ]
  },
  {
   "cell_type": "code",
   "execution_count": 25,
   "metadata": {
    "colab": {
     "base_uri": "https://localhost:8080/",
     "height": 222
    },
    "id": "bLRXyml1MXXu",
    "outputId": "0a8d85ef-6362-415e-fa46-dbda7ded6844"
   },
   "outputs": [
    {
     "data": {
      "text/html": [
       "<div>\n",
       "<style scoped>\n",
       "    .dataframe tbody tr th:only-of-type {\n",
       "        vertical-align: middle;\n",
       "    }\n",
       "\n",
       "    .dataframe tbody tr th {\n",
       "        vertical-align: top;\n",
       "    }\n",
       "\n",
       "    .dataframe thead th {\n",
       "        text-align: right;\n",
       "    }\n",
       "</style>\n",
       "<table border=\"1\" class=\"dataframe\">\n",
       "  <thead>\n",
       "    <tr style=\"text-align: right;\">\n",
       "      <th></th>\n",
       "      <th>Restaurant</th>\n",
       "      <th>Location</th>\n",
       "      <th>Average_Cost</th>\n",
       "      <th>Minimum_Order</th>\n",
       "      <th>Rating</th>\n",
       "      <th>Votes</th>\n",
       "      <th>Reviews</th>\n",
       "      <th>Delivery_Time</th>\n",
       "      <th>Cuisine_1</th>\n",
       "      <th>Cuisine_2</th>\n",
       "      <th>Cuisine_3</th>\n",
       "      <th>Cuisine_4</th>\n",
       "      <th>Cuisine_5</th>\n",
       "      <th>Cuisine_6</th>\n",
       "      <th>Cuisine_7</th>\n",
       "      <th>Cuisine_8</th>\n",
       "    </tr>\n",
       "  </thead>\n",
       "  <tbody>\n",
       "    <tr>\n",
       "      <th>0</th>\n",
       "      <td>ID_6321</td>\n",
       "      <td>0</td>\n",
       "      <td>200</td>\n",
       "      <td>50</td>\n",
       "      <td>3.5</td>\n",
       "      <td>12</td>\n",
       "      <td>4</td>\n",
       "      <td>30</td>\n",
       "      <td>0</td>\n",
       "      <td>20.0</td>\n",
       "      <td>10.0</td>\n",
       "      <td>34.0</td>\n",
       "      <td>44.0</td>\n",
       "      <td>-1.0</td>\n",
       "      <td>-1.0</td>\n",
       "      <td>-1.0</td>\n",
       "    </tr>\n",
       "    <tr>\n",
       "      <th>1</th>\n",
       "      <td>ID_2882</td>\n",
       "      <td>1</td>\n",
       "      <td>100</td>\n",
       "      <td>50</td>\n",
       "      <td>3.5</td>\n",
       "      <td>11</td>\n",
       "      <td>4</td>\n",
       "      <td>30</td>\n",
       "      <td>1</td>\n",
       "      <td>13.0</td>\n",
       "      <td>-1.0</td>\n",
       "      <td>-1.0</td>\n",
       "      <td>-1.0</td>\n",
       "      <td>-1.0</td>\n",
       "      <td>-1.0</td>\n",
       "      <td>-1.0</td>\n",
       "    </tr>\n",
       "    <tr>\n",
       "      <th>2</th>\n",
       "      <td>ID_1595</td>\n",
       "      <td>2</td>\n",
       "      <td>150</td>\n",
       "      <td>50</td>\n",
       "      <td>3.6</td>\n",
       "      <td>99</td>\n",
       "      <td>30</td>\n",
       "      <td>65</td>\n",
       "      <td>2</td>\n",
       "      <td>16.0</td>\n",
       "      <td>0.0</td>\n",
       "      <td>-1.0</td>\n",
       "      <td>-1.0</td>\n",
       "      <td>-1.0</td>\n",
       "      <td>-1.0</td>\n",
       "      <td>-1.0</td>\n",
       "    </tr>\n",
       "    <tr>\n",
       "      <th>3</th>\n",
       "      <td>ID_5929</td>\n",
       "      <td>3</td>\n",
       "      <td>250</td>\n",
       "      <td>99</td>\n",
       "      <td>3.7</td>\n",
       "      <td>176</td>\n",
       "      <td>95</td>\n",
       "      <td>30</td>\n",
       "      <td>3</td>\n",
       "      <td>9.0</td>\n",
       "      <td>7.0</td>\n",
       "      <td>-1.0</td>\n",
       "      <td>-1.0</td>\n",
       "      <td>-1.0</td>\n",
       "      <td>-1.0</td>\n",
       "      <td>-1.0</td>\n",
       "    </tr>\n",
       "    <tr>\n",
       "      <th>4</th>\n",
       "      <td>ID_6123</td>\n",
       "      <td>4</td>\n",
       "      <td>200</td>\n",
       "      <td>99</td>\n",
       "      <td>3.2</td>\n",
       "      <td>521</td>\n",
       "      <td>235</td>\n",
       "      <td>65</td>\n",
       "      <td>4</td>\n",
       "      <td>6.0</td>\n",
       "      <td>-1.0</td>\n",
       "      <td>-1.0</td>\n",
       "      <td>-1.0</td>\n",
       "      <td>-1.0</td>\n",
       "      <td>-1.0</td>\n",
       "      <td>-1.0</td>\n",
       "    </tr>\n",
       "  </tbody>\n",
       "</table>\n",
       "</div>"
      ],
      "text/plain": [
       "  Restaurant  Location Average_Cost Minimum_Order Rating Votes Reviews  \\\n",
       "0    ID_6321         0          200            50    3.5    12       4   \n",
       "1    ID_2882         1          100            50    3.5    11       4   \n",
       "2    ID_1595         2          150            50    3.6    99      30   \n",
       "3    ID_5929         3          250            99    3.7   176      95   \n",
       "4    ID_6123         4          200            99    3.2   521     235   \n",
       "\n",
       "   Delivery_Time  Cuisine_1  Cuisine_2  Cuisine_3  Cuisine_4  Cuisine_5  \\\n",
       "0             30          0       20.0       10.0       34.0       44.0   \n",
       "1             30          1       13.0       -1.0       -1.0       -1.0   \n",
       "2             65          2       16.0        0.0       -1.0       -1.0   \n",
       "3             30          3        9.0        7.0       -1.0       -1.0   \n",
       "4             65          4        6.0       -1.0       -1.0       -1.0   \n",
       "\n",
       "   Cuisine_6  Cuisine_7  Cuisine_8  \n",
       "0       -1.0       -1.0       -1.0  \n",
       "1       -1.0       -1.0       -1.0  \n",
       "2       -1.0       -1.0       -1.0  \n",
       "3       -1.0       -1.0       -1.0  \n",
       "4       -1.0       -1.0       -1.0  "
      ]
     },
     "execution_count": 25,
     "metadata": {},
     "output_type": "execute_result"
    }
   ],
   "source": [
    "data.head()"
   ]
  },
  {
   "cell_type": "markdown",
   "metadata": {
    "id": "x4Kh_PIB_bdA"
   },
   "source": [
    "<h3>Plotting Graphs"
   ]
  },
  {
   "cell_type": "code",
   "execution_count": 26,
   "metadata": {
    "id": "p_Xqy2IlM1_n"
   },
   "outputs": [],
   "source": [
    "import matplotlib.pyplot as plt"
   ]
  },
  {
   "cell_type": "code",
   "execution_count": 27,
   "metadata": {
    "colab": {
     "base_uri": "https://localhost:8080/",
     "height": 283
    },
    "id": "PZYwvo6ijiPq",
    "outputId": "9cf0b630-f894-4680-c318-c7fbe64c87aa"
   },
   "outputs": [
    {
     "data": {
      "text/plain": [
       "<matplotlib.collections.PathCollection at 0x7f7fa3253f98>"
      ]
     },
     "execution_count": 27,
     "metadata": {},
     "output_type": "execute_result"
    },
    {
     "data": {
      "image/png": "[encoded data removed]",
      "text/plain": [
       "<Figure size 432x288 with 1 Axes>"
      ]
     },
     "metadata": {
      "needs_background": "light"
     },
     "output_type": "display_data"
    }
   ],
   "source": [
    "plt.scatter(data['Cuisine_1'],data['Delivery_Time'])"
   ]
  },
  {
   "cell_type": "code",
   "execution_count": 28,
   "metadata": {
    "colab": {
     "base_uri": "https://localhost:8080/",
     "height": 283
    },
    "id": "b_vJpX97_bdM",
    "outputId": "4c79755b-f9cc-46d5-beb9-adcaa83ff8c1"
   },
   "outputs": [
    {
     "data": {
      "text/plain": [
       "<matplotlib.collections.PathCollection at 0x7f7fa334bc88>"
      ]
     },
     "execution_count": 28,
     "metadata": {},
     "output_type": "execute_result"
    },
    {
     "data": {
      "image/png": "[encoded data removed]",
      "text/plain": [
       "<Figure size 432x288 with 1 Axes>"
      ]
     },
     "metadata": {
      "needs_background": "light"
     },
     "output_type": "display_data"
    }
   ],
   "source": [
    "plt.scatter(data['Location'],data['Delivery_Time'])"
   ]
  },
  {
   "cell_type": "code",
   "execution_count": 29,
   "metadata": {
    "colab": {
     "base_uri": "https://localhost:8080/",
     "height": 283
    },
    "id": "2VjBm0Li_bdS",
    "outputId": "cc267b01-d604-4765-ad36-4935eb52887d"
   },
   "outputs": [
    {
     "data": {
      "text/plain": [
       "<matplotlib.collections.PathCollection at 0x7f802d97da90>"
      ]
     },
     "execution_count": 29,
     "metadata": {},
     "output_type": "execute_result"
    },
    {
     "data": {
      "image/png": "[encoded data removed]",
      "text/plain": [
       "<Figure size 432x288 with 1 Axes>"
      ]
     },
     "metadata": {
      "needs_background": "light"
     },
     "output_type": "display_data"
    }
   ],
   "source": [
    "plt.scatter(data['Average_Cost'],data['Delivery_Time'])"
   ]
  },
  {
   "cell_type": "code",
   "execution_count": 30,
   "metadata": {
    "colab": {
     "base_uri": "https://localhost:8080/",
     "height": 283
    },
    "id": "ytdETz7T_bdX",
    "outputId": "5bd022f9-5ced-44b5-ad24-1fea4a08af01"
   },
   "outputs": [
    {
     "data": {
      "text/plain": [
       "<matplotlib.collections.PathCollection at 0x7f802d863d68>"
      ]
     },
     "execution_count": 30,
     "metadata": {},
     "output_type": "execute_result"
    },
    {
     "data": {
      "image/png": "[encoded data removed]",
      "text/plain": [
       "<Figure size 432x288 with 1 Axes>"
      ]
     },
     "metadata": {
      "needs_background": "light"
     },
     "output_type": "display_data"
    }
   ],
   "source": [
    "plt.scatter(data['Minimum_Order'],data['Delivery_Time'])"
   ]
  },
  {
   "cell_type": "code",
   "execution_count": 31,
   "metadata": {
    "id": "sQCUk65yduKs"
   },
   "outputs": [],
   "source": [
    "data = data.sample(frac=1).reset_index(drop=True)"
   ]
  },
  {
   "cell_type": "code",
   "execution_count": 32,
   "metadata": {
    "id": "uq1IerQdeqPJ"
   },
   "outputs": [],
   "source": [
    "data.to_csv(\"new_data.csv\", index=False)"
   ]
  },
  {
   "cell_type": "code",
   "execution_count": 33,
   "metadata": {
    "id": "rBq9Ujjie6NI"
   },
   "outputs": [],
   "source": [
    "new_data = pd.read_csv('new_data.csv')"
   ]
  },
  {
   "cell_type": "code",
   "execution_count": 34,
   "metadata": {
    "colab": {
     "base_uri": "https://localhost:8080/",
     "height": 222
    },
    "id": "mz5aRExyf5pL",
    "outputId": "daa70dc2-cccc-459e-c2df-9e13dd97b786"
   },
   "outputs": [
    {
     "data": {
      "text/html": [
       "<div>\n",
       "<style scoped>\n",
       "    .dataframe tbody tr th:only-of-type {\n",
       "        vertical-align: middle;\n",
       "    }\n",
       "\n",
       "    .dataframe tbody tr th {\n",
       "        vertical-align: top;\n",
       "    }\n",
       "\n",
       "    .dataframe thead th {\n",
       "        text-align: right;\n",
       "    }\n",
       "</style>\n",
       "<table border=\"1\" class=\"dataframe\">\n",
       "  <thead>\n",
       "    <tr style=\"text-align: right;\">\n",
       "      <th></th>\n",
       "      <th>Restaurant</th>\n",
       "      <th>Location</th>\n",
       "      <th>Average_Cost</th>\n",
       "      <th>Minimum_Order</th>\n",
       "      <th>Rating</th>\n",
       "      <th>Votes</th>\n",
       "      <th>Reviews</th>\n",
       "      <th>Delivery_Time</th>\n",
       "      <th>Cuisine_1</th>\n",
       "      <th>Cuisine_2</th>\n",
       "      <th>Cuisine_3</th>\n",
       "      <th>Cuisine_4</th>\n",
       "      <th>Cuisine_5</th>\n",
       "      <th>Cuisine_6</th>\n",
       "      <th>Cuisine_7</th>\n",
       "      <th>Cuisine_8</th>\n",
       "    </tr>\n",
       "  </thead>\n",
       "  <tbody>\n",
       "    <tr>\n",
       "      <th>0</th>\n",
       "      <td>ID_6406</td>\n",
       "      <td>30</td>\n",
       "      <td>100.0</td>\n",
       "      <td>50</td>\n",
       "      <td>3.6</td>\n",
       "      <td>353</td>\n",
       "      <td>53</td>\n",
       "      <td>30</td>\n",
       "      <td>11</td>\n",
       "      <td>3.0</td>\n",
       "      <td>-1.0</td>\n",
       "      <td>-1.0</td>\n",
       "      <td>-1.0</td>\n",
       "      <td>-1.0</td>\n",
       "      <td>-1.0</td>\n",
       "      <td>-1.0</td>\n",
       "    </tr>\n",
       "    <tr>\n",
       "      <th>1</th>\n",
       "      <td>ID_5858</td>\n",
       "      <td>10</td>\n",
       "      <td>750.0</td>\n",
       "      <td>50</td>\n",
       "      <td>4.1</td>\n",
       "      <td>318</td>\n",
       "      <td>185</td>\n",
       "      <td>65</td>\n",
       "      <td>34</td>\n",
       "      <td>25.0</td>\n",
       "      <td>28.0</td>\n",
       "      <td>9.0</td>\n",
       "      <td>2.0</td>\n",
       "      <td>37.0</td>\n",
       "      <td>-1.0</td>\n",
       "      <td>-1.0</td>\n",
       "    </tr>\n",
       "    <tr>\n",
       "      <th>2</th>\n",
       "      <td>ID_4099</td>\n",
       "      <td>17</td>\n",
       "      <td>600.0</td>\n",
       "      <td>50</td>\n",
       "      <td>3.8</td>\n",
       "      <td>644</td>\n",
       "      <td>341</td>\n",
       "      <td>30</td>\n",
       "      <td>25</td>\n",
       "      <td>0.0</td>\n",
       "      <td>6.0</td>\n",
       "      <td>-1.0</td>\n",
       "      <td>-1.0</td>\n",
       "      <td>-1.0</td>\n",
       "      <td>-1.0</td>\n",
       "      <td>-1.0</td>\n",
       "    </tr>\n",
       "    <tr>\n",
       "      <th>3</th>\n",
       "      <td>ID_3336</td>\n",
       "      <td>28</td>\n",
       "      <td>250.0</td>\n",
       "      <td>50</td>\n",
       "      <td>3.1</td>\n",
       "      <td>8</td>\n",
       "      <td>3</td>\n",
       "      <td>30</td>\n",
       "      <td>9</td>\n",
       "      <td>7.0</td>\n",
       "      <td>3.0</td>\n",
       "      <td>-1.0</td>\n",
       "      <td>-1.0</td>\n",
       "      <td>-1.0</td>\n",
       "      <td>-1.0</td>\n",
       "      <td>-1.0</td>\n",
       "    </tr>\n",
       "    <tr>\n",
       "      <th>4</th>\n",
       "      <td>ID_4360</td>\n",
       "      <td>0</td>\n",
       "      <td>850.0</td>\n",
       "      <td>50</td>\n",
       "      <td>4.4</td>\n",
       "      <td>2649</td>\n",
       "      <td>1131</td>\n",
       "      <td>45</td>\n",
       "      <td>2</td>\n",
       "      <td>58.0</td>\n",
       "      <td>34.0</td>\n",
       "      <td>31.0</td>\n",
       "      <td>-1.0</td>\n",
       "      <td>-1.0</td>\n",
       "      <td>-1.0</td>\n",
       "      <td>-1.0</td>\n",
       "    </tr>\n",
       "  </tbody>\n",
       "</table>\n",
       "</div>"
      ],
      "text/plain": [
       "  Restaurant  Location  Average_Cost  Minimum_Order Rating Votes Reviews  \\\n",
       "0    ID_6406        30         100.0             50    3.6   353      53   \n",
       "1    ID_5858        10         750.0             50    4.1   318     185   \n",
       "2    ID_4099        17         600.0             50    3.8   644     341   \n",
       "3    ID_3336        28         250.0             50    3.1     8       3   \n",
       "4    ID_4360         0         850.0             50    4.4  2649    1131   \n",
       "\n",
       "   Delivery_Time  Cuisine_1  Cuisine_2  Cuisine_3  Cuisine_4  Cuisine_5  \\\n",
       "0             30         11        3.0       -1.0       -1.0       -1.0   \n",
       "1             65         34       25.0       28.0        9.0        2.0   \n",
       "2             30         25        0.0        6.0       -1.0       -1.0   \n",
       "3             30          9        7.0        3.0       -1.0       -1.0   \n",
       "4             45          2       58.0       34.0       31.0       -1.0   \n",
       "\n",
       "   Cuisine_6  Cuisine_7  Cuisine_8  \n",
       "0       -1.0       -1.0       -1.0  \n",
       "1       37.0       -1.0       -1.0  \n",
       "2       -1.0       -1.0       -1.0  \n",
       "3       -1.0       -1.0       -1.0  \n",
       "4       -1.0       -1.0       -1.0  "
      ]
     },
     "execution_count": 34,
     "metadata": {},
     "output_type": "execute_result"
    }
   ],
   "source": [
    "new_data.head()"
   ]
  },
  {
   "cell_type": "code",
   "execution_count": 35,
   "metadata": {
    "id": "ReyCkx-H_bdw"
   },
   "outputs": [],
   "source": [
    "data['Average_Cost'].fillna(0,inplace=True)\n",
    "data['Average_Cost'].replace(0, sum(new_data['Average_Cost'])/len(new_data['Average_Cost']), inplace=True)"
   ]
  },
  {
   "cell_type": "markdown",
   "metadata": {
    "id": "WagjoCei_bdz"
   },
   "source": [
    "<h3>Linear Regression for predicting delivery time"
   ]
  },
  {
   "cell_type": "code",
   "execution_count": 36,
   "metadata": {
    "colab": {
     "base_uri": "https://localhost:8080/"
    },
    "id": "ODCtsPjf_bd0",
    "outputId": "a167a49b-00b6-49a9-ad1a-b8ea2bde9175"
   },
   "outputs": [
    {
     "data": {
      "text/plain": [
       "LinearRegression(copy_X=True, fit_intercept=True, n_jobs=None,\n",
       "         normalize=False)"
      ]
     },
     "execution_count": 36,
     "metadata": {},
     "output_type": "execute_result"
    }
   ],
   "source": [
    "#Importing the libraries\n",
    "from sklearn.linear_model import LinearRegression\n",
    "from sklearn.model_selection import train_test_split\n",
    "\n",
    "predictor = np.asanyarray(new_data[['Location','Cuisine_1', 'Cuisine_2', 'Cuisine_3', 'Cuisine_4', 'Cuisine_5', 'Cuisine_6',\\\n",
    "                  'Cuisine_7', 'Cuisine_8', 'Minimum_Order', 'Average_Cost']])\n",
    "target = np.asanyarray(new_data['Delivery_Time'])\n",
    "\n",
    "#Splitting the data into training and testing\n",
    "X_train, X_test, y_train, y_test = train_test_split(predictor, target, test_size=0.3, random_state=42)\n",
    "\n",
    "#Modelling\n",
    "lr = LinearRegression()\n",
    "\n",
    "#Training the model\n",
    "lr.fit(X_train, y_train)"
   ]
  },
  {
   "cell_type": "code",
   "execution_count": 37,
   "metadata": {
    "colab": {
     "base_uri": "https://localhost:8080/"
    },
    "id": "g8Y_YVkP_bd3",
    "outputId": "eff52c22-3c70-4565-c9d6-ce24fad092b4"
   },
   "outputs": [
    {
     "name": "stdout",
     "output_type": "stream",
     "text": [
      "Mean Absolute Percentage Error on training data: 21.80692352181198\n",
      "Mean Absolute Percentage Error on testing data: 22.1367499656371\n"
     ]
    }
   ],
   "source": [
    "#Prediction on training data\n",
    "train_pred = lr.predict(X_train)\n",
    "print('Mean Absolute Percentage Error on training data:',np.mean(np.abs((y_train - train_pred) / y_train)) * 100)\n",
    "\n",
    "#Prediction on validation data\n",
    "y_pred = lr.predict(X_test)\n",
    "print('Mean Absolute Percentage Error on testing data:',np.mean(np.abs((y_test - y_pred) / y_test)) * 100)"
   ]
  },
  {
   "cell_type": "markdown",
   "metadata": {
    "id": "0JXdFpRKYfT0"
   },
   "source": [
    "<h3>Looking at the values for MAPE, linear regression isn't the best model for predicting delivery time. It is preferred to make a neural network"
   ]
  },
  {
   "cell_type": "markdown",
   "metadata": {
    "id": "lEKDdRL2_bd6"
   },
   "source": [
    "<h3>Preparing for classification"
   ]
  },
  {
   "cell_type": "code",
   "execution_count": 40,
   "metadata": {
    "colab": {
     "base_uri": "https://localhost:8080/"
    },
    "id": "0SSoibbFgSAX",
    "outputId": "138c9c01-1c8f-4bb4-9e81-b7ab2988e251"
   },
   "outputs": [
    {
     "data": {
      "text/plain": [
       "array([ 30,  65,  45, 120,  80,  20,  10])"
      ]
     },
     "execution_count": 40,
     "metadata": {},
     "output_type": "execute_result"
    }
   ],
   "source": [
    "new_data['Delivery_Time'].unique()"
   ]
  },
  {
   "cell_type": "code",
   "execution_count": 41,
   "metadata": {
    "colab": {
     "base_uri": "https://localhost:8080/",
     "height": 222
    },
    "id": "kfn0cmvH_bd-",
    "outputId": "9c77bcb1-fe6f-45c4-b4a3-4e4c4313520c"
   },
   "outputs": [
    {
     "data": {
      "text/html": [
       "<div>\n",
       "<style scoped>\n",
       "    .dataframe tbody tr th:only-of-type {\n",
       "        vertical-align: middle;\n",
       "    }\n",
       "\n",
       "    .dataframe tbody tr th {\n",
       "        vertical-align: top;\n",
       "    }\n",
       "\n",
       "    .dataframe thead th {\n",
       "        text-align: right;\n",
       "    }\n",
       "</style>\n",
       "<table border=\"1\" class=\"dataframe\">\n",
       "  <thead>\n",
       "    <tr style=\"text-align: right;\">\n",
       "      <th></th>\n",
       "      <th>Restaurant</th>\n",
       "      <th>Location</th>\n",
       "      <th>Average_Cost</th>\n",
       "      <th>Minimum_Order</th>\n",
       "      <th>Rating</th>\n",
       "      <th>Votes</th>\n",
       "      <th>Reviews</th>\n",
       "      <th>Delivery_Time</th>\n",
       "      <th>Cuisine_1</th>\n",
       "      <th>Cuisine_2</th>\n",
       "      <th>Cuisine_3</th>\n",
       "      <th>Cuisine_4</th>\n",
       "      <th>Cuisine_5</th>\n",
       "      <th>Cuisine_6</th>\n",
       "      <th>Cuisine_7</th>\n",
       "      <th>Cuisine_8</th>\n",
       "    </tr>\n",
       "  </thead>\n",
       "  <tbody>\n",
       "    <tr>\n",
       "      <th>0</th>\n",
       "      <td>ID_6406</td>\n",
       "      <td>30</td>\n",
       "      <td>100.0</td>\n",
       "      <td>50</td>\n",
       "      <td>3.6</td>\n",
       "      <td>353</td>\n",
       "      <td>53</td>\n",
       "      <td>2</td>\n",
       "      <td>11</td>\n",
       "      <td>3.0</td>\n",
       "      <td>-1.0</td>\n",
       "      <td>-1.0</td>\n",
       "      <td>-1.0</td>\n",
       "      <td>-1.0</td>\n",
       "      <td>-1.0</td>\n",
       "      <td>-1.0</td>\n",
       "    </tr>\n",
       "    <tr>\n",
       "      <th>1</th>\n",
       "      <td>ID_5858</td>\n",
       "      <td>10</td>\n",
       "      <td>750.0</td>\n",
       "      <td>50</td>\n",
       "      <td>4.1</td>\n",
       "      <td>318</td>\n",
       "      <td>185</td>\n",
       "      <td>4</td>\n",
       "      <td>34</td>\n",
       "      <td>25.0</td>\n",
       "      <td>28.0</td>\n",
       "      <td>9.0</td>\n",
       "      <td>2.0</td>\n",
       "      <td>37.0</td>\n",
       "      <td>-1.0</td>\n",
       "      <td>-1.0</td>\n",
       "    </tr>\n",
       "    <tr>\n",
       "      <th>2</th>\n",
       "      <td>ID_4099</td>\n",
       "      <td>17</td>\n",
       "      <td>600.0</td>\n",
       "      <td>50</td>\n",
       "      <td>3.8</td>\n",
       "      <td>644</td>\n",
       "      <td>341</td>\n",
       "      <td>2</td>\n",
       "      <td>25</td>\n",
       "      <td>0.0</td>\n",
       "      <td>6.0</td>\n",
       "      <td>-1.0</td>\n",
       "      <td>-1.0</td>\n",
       "      <td>-1.0</td>\n",
       "      <td>-1.0</td>\n",
       "      <td>-1.0</td>\n",
       "    </tr>\n",
       "    <tr>\n",
       "      <th>3</th>\n",
       "      <td>ID_3336</td>\n",
       "      <td>28</td>\n",
       "      <td>250.0</td>\n",
       "      <td>50</td>\n",
       "      <td>3.1</td>\n",
       "      <td>8</td>\n",
       "      <td>3</td>\n",
       "      <td>2</td>\n",
       "      <td>9</td>\n",
       "      <td>7.0</td>\n",
       "      <td>3.0</td>\n",
       "      <td>-1.0</td>\n",
       "      <td>-1.0</td>\n",
       "      <td>-1.0</td>\n",
       "      <td>-1.0</td>\n",
       "      <td>-1.0</td>\n",
       "    </tr>\n",
       "    <tr>\n",
       "      <th>4</th>\n",
       "      <td>ID_4360</td>\n",
       "      <td>0</td>\n",
       "      <td>850.0</td>\n",
       "      <td>50</td>\n",
       "      <td>4.4</td>\n",
       "      <td>2649</td>\n",
       "      <td>1131</td>\n",
       "      <td>3</td>\n",
       "      <td>2</td>\n",
       "      <td>58.0</td>\n",
       "      <td>34.0</td>\n",
       "      <td>31.0</td>\n",
       "      <td>-1.0</td>\n",
       "      <td>-1.0</td>\n",
       "      <td>-1.0</td>\n",
       "      <td>-1.0</td>\n",
       "    </tr>\n",
       "  </tbody>\n",
       "</table>\n",
       "</div>"
      ],
      "text/plain": [
       "  Restaurant  Location  Average_Cost  Minimum_Order Rating Votes Reviews  \\\n",
       "0    ID_6406        30         100.0             50    3.6   353      53   \n",
       "1    ID_5858        10         750.0             50    4.1   318     185   \n",
       "2    ID_4099        17         600.0             50    3.8   644     341   \n",
       "3    ID_3336        28         250.0             50    3.1     8       3   \n",
       "4    ID_4360         0         850.0             50    4.4  2649    1131   \n",
       "\n",
       "   Delivery_Time  Cuisine_1  Cuisine_2  Cuisine_3  Cuisine_4  Cuisine_5  \\\n",
       "0              2         11        3.0       -1.0       -1.0       -1.0   \n",
       "1              4         34       25.0       28.0        9.0        2.0   \n",
       "2              2         25        0.0        6.0       -1.0       -1.0   \n",
       "3              2          9        7.0        3.0       -1.0       -1.0   \n",
       "4              3          2       58.0       34.0       31.0       -1.0   \n",
       "\n",
       "   Cuisine_6  Cuisine_7  Cuisine_8  \n",
       "0       -1.0       -1.0       -1.0  \n",
       "1       37.0       -1.0       -1.0  \n",
       "2       -1.0       -1.0       -1.0  \n",
       "3       -1.0       -1.0       -1.0  \n",
       "4       -1.0       -1.0       -1.0  "
      ]
     },
     "execution_count": 41,
     "metadata": {},
     "output_type": "execute_result"
    }
   ],
   "source": [
    "encode = {'Delivery_Time': {10:0, 20:1, 30:2, 45:3, 65:4, 80:5, 120:6}}\n",
    "new_data = new_data.replace(encode)\n",
    "new_data.head()"
   ]
  },
  {
   "cell_type": "markdown",
   "metadata": {
    "id": "5f-xFR63_beC"
   },
   "source": [
    "<h3>Classification models"
   ]
  },
  {
   "cell_type": "markdown",
   "metadata": {},
   "source": [
    "<h4>We will be testing various models and choosing the model with the bets "
   ]
  },
  {
   "cell_type": "code",
   "execution_count": 42,
   "metadata": {
    "id": "H2OZ7o2A_beD"
   },
   "outputs": [],
   "source": [
    "from sklearn.linear_model import LogisticRegression\n",
    "from sklearn.naive_bayes import GaussianNB\n",
    "from sklearn.neighbors import KNeighborsClassifier\n",
    "from sklearn.svm import SVC\n",
    "from sklearn.ensemble import GradientBoostingClassifier\n",
    "from sklearn.ensemble import RandomForestClassifier\n",
    "from sklearn.tree import DecisionTreeClassifier, export_graphviz\n",
    "from sklearn import metrics\n",
    "from sklearn.metrics import classification_report\n",
    "\n",
    "\n",
    "def classifier(model, data, X, y):\n",
    "    X_train, X_test, y_train, y_test = train_test_split(data[X], data[y], test_size=0.3, random_state=42)\n",
    "    model.fit(X_train,y_train)\n",
    "    train_pred = model.predict(X_train)\n",
    "    print(train_pred)\n",
    "    train_accuracy = metrics.accuracy_score(train_pred,y_train)\n",
    "    print('Accuracy on training data is: %s' % '{0:.3%}'.format(train_accuracy))\n",
    "    test_pred = model.predict(X_test)\n",
    "    print('\\n',test_pred)\n",
    "    test_accuracy = metrics.accuracy_score(test_pred, y_test)\n",
    "    print('Accuracy on testing data is: %s' % '{0:.3%}'.format(test_accuracy))\n"
   ]
  },
  {
   "cell_type": "markdown",
   "metadata": {
    "id": "GnHKoQok_beI"
   },
   "source": [
    "<h3>Logistic Regression"
   ]
  },
  {
   "cell_type": "code",
   "execution_count": 43,
   "metadata": {
    "colab": {
     "base_uri": "https://localhost:8080/"
    },
    "id": "O3vqyvVc_beK",
    "outputId": "78ad79a0-41ed-4062-92ee-a22b27814193"
   },
   "outputs": [
    {
     "name": "stderr",
     "output_type": "stream",
     "text": [
      "/home/jupyterlab/conda/envs/python/lib/python3.6/site-packages/sklearn/linear_model/logistic.py:433: FutureWarning: Default solver will be changed to 'lbfgs' in 0.22. Specify a solver to silence this warning.\n",
      "  FutureWarning)\n",
      "/home/jupyterlab/conda/envs/python/lib/python3.6/site-packages/sklearn/linear_model/logistic.py:460: FutureWarning: Default multi_class will be changed to 'auto' in 0.22. Specify the multi_class option to silence this warning.\n",
      "  \"this warning.\", FutureWarning)\n"
     ]
    },
    {
     "name": "stdout",
     "output_type": "stream",
     "text": [
      "[2 2 2 ... 2 2 2]\n",
      "Accuracy on training data is: 68.616%\n",
      "\n",
      " [2 2 2 ... 2 2 2]\n",
      "Accuracy on testing data is: 68.459%\n"
     ]
    }
   ],
   "source": [
    "outcome_var='Delivery_Time'\n",
    "predictor_var = ['Location','Cuisine_1', 'Cuisine_2', 'Cuisine_3', 'Cuisine_4', 'Cuisine_5', \\\n",
    "                 'Cuisine_6', 'Cuisine_7', 'Cuisine_8', 'Minimum_Order', 'Average_Cost']\n",
    "model_lr =LogisticRegression()\n",
    "classifier(model_lr, new_data,predictor_var,outcome_var)"
   ]
  },
  {
   "cell_type": "markdown",
   "metadata": {
    "id": "ziGafb4d_beT"
   },
   "source": [
    "<h3>Gaussian Naive Bayes"
   ]
  },
  {
   "cell_type": "code",
   "execution_count": 44,
   "metadata": {
    "colab": {
     "base_uri": "https://localhost:8080/"
    },
    "id": "n011UwQA_beU",
    "outputId": "dbb01733-f06e-4283-cb70-dc3bdf032ae5"
   },
   "outputs": [
    {
     "name": "stdout",
     "output_type": "stream",
     "text": [
      "[1 0 0 ... 6 1 2]\n",
      "Accuracy on training data is: 3.271%\n",
      "\n",
      " [1 1 1 ... 1 1 0]\n",
      "Accuracy on testing data is: 3.274%\n"
     ]
    }
   ],
   "source": [
    "outcome_var='Delivery_Time'\n",
    "predictor_var = ['Location','Cuisine_1', 'Cuisine_2', 'Cuisine_3', 'Cuisine_4', 'Cuisine_5', 'Cuisine_6', 'Cuisine_7', 'Cuisine_8', 'Minimum_Order', 'Average_Cost']\n",
    "model_nb = GaussianNB() \n",
    "classifier(model_nb, new_data,predictor_var,outcome_var)"
   ]
  },
  {
   "cell_type": "markdown",
   "metadata": {
    "id": "vB9qhC2k_beb"
   },
   "source": [
    "<h3>KNN Classifier"
   ]
  },
  {
   "cell_type": "code",
   "execution_count": 45,
   "metadata": {
    "colab": {
     "base_uri": "https://localhost:8080/"
    },
    "id": "vdJitxGl_bec",
    "outputId": "3351992f-a66a-4c1a-eeb0-50ede7a0f621"
   },
   "outputs": [
    {
     "name": "stdout",
     "output_type": "stream",
     "text": [
      "[2 3 3 ... 2 2 2]\n",
      "Accuracy on training data is: 91.114%\n",
      "\n",
      " [3 2 2 ... 2 2 2]\n",
      "Accuracy on testing data is: 60.228%\n"
     ]
    }
   ],
   "source": [
    "outcome_var='Delivery_Time'\n",
    "predictor_var = ['Location','Cuisine_1', 'Cuisine_2', 'Cuisine_3', 'Cuisine_4', 'Cuisine_5', 'Cuisine_6', 'Cuisine_7', 'Cuisine_8', 'Minimum_Order', 'Average_Cost']\n",
    "model_knn = KNeighborsClassifier(n_neighbors=1)\n",
    "classifier(model_knn, new_data,predictor_var,outcome_var)"
   ]
  },
  {
   "cell_type": "markdown",
   "metadata": {
    "id": "g8Q2nMl-_bei"
   },
   "source": [
    "<h3>Support Vector Machine"
   ]
  },
  {
   "cell_type": "code",
   "execution_count": 46,
   "metadata": {
    "colab": {
     "base_uri": "https://localhost:8080/"
    },
    "id": "3UDB--8i_bek",
    "outputId": "a11cd226-27d7-43b6-88b0-a8db45ae2644"
   },
   "outputs": [
    {
     "name": "stdout",
     "output_type": "stream",
     "text": [
      "[2 3 2 ... 2 2 2]\n",
      "Accuracy on training data is: 91.024%\n",
      "\n",
      " [2 2 2 ... 2 2 2]\n",
      "Accuracy on testing data is: 65.215%\n"
     ]
    }
   ],
   "source": [
    "outcome_var='Delivery_Time'\n",
    "predictor_var = ['Location','Cuisine_1', 'Cuisine_2', 'Cuisine_3', 'Cuisine_4', 'Cuisine_5', 'Cuisine_6', 'Cuisine_7', 'Cuisine_8', 'Minimum_Order', 'Average_Cost']\n",
    "model_svc = SVC(kernel='rbf', C=1, gamma=1) \n",
    "classifier(model_svc, new_data,predictor_var,outcome_var)"
   ]
  },
  {
   "cell_type": "markdown",
   "metadata": {
    "id": "8xL-8X52_bep"
   },
   "source": [
    "<h3>Gradient Boosting Classifier"
   ]
  },
  {
   "cell_type": "code",
   "execution_count": 47,
   "metadata": {
    "colab": {
     "base_uri": "https://localhost:8080/"
    },
    "id": "SfWXZCtL_ber",
    "outputId": "f06cc4a7-e195-47b4-c5a3-4e1280677ce0"
   },
   "outputs": [
    {
     "name": "stdout",
     "output_type": "stream",
     "text": [
      "[2 2 2 ... 2 2 2]\n",
      "Accuracy on training data is: 80.670%\n",
      "\n",
      " [2 2 2 ... 2 2 2]\n",
      "Accuracy on testing data is: 68.910%\n"
     ]
    }
   ],
   "source": [
    "outcome_var='Delivery_Time'\n",
    "predictor_var = ['Location','Cuisine_1', 'Cuisine_2', 'Cuisine_3', 'Cuisine_4', 'Cuisine_5', 'Cuisine_6', 'Cuisine_7', 'Cuisine_8', 'Minimum_Order', 'Average_Cost']\n",
    "model_gb = GradientBoostingClassifier(n_estimators=1000, learning_rate=0.1, max_depth=3, random_state=42)\n",
    "classifier(model_gb, new_data,predictor_var,outcome_var)"
   ]
  },
  {
   "cell_type": "markdown",
   "metadata": {
    "id": "pKGuKMZf_bew"
   },
   "source": [
    "<h3>Decision Tree"
   ]
  },
  {
   "cell_type": "code",
   "execution_count": 48,
   "metadata": {
    "colab": {
     "base_uri": "https://localhost:8080/"
    },
    "id": "7ofEXILB_bex",
    "outputId": "74b6dd8a-af33-41fe-e0a5-f2986cdc79d3"
   },
   "outputs": [
    {
     "name": "stdout",
     "output_type": "stream",
     "text": [
      "[2 3 2 ... 2 2 2]\n",
      "Accuracy on training data is: 92.543%\n",
      "\n",
      " [2 2 2 ... 2 2 2]\n",
      "Accuracy on testing data is: 62.181%\n"
     ]
    }
   ],
   "source": [
    "outcome_var='Delivery_Time'\n",
    "predictor_var = ['Location','Cuisine_1', 'Cuisine_2', 'Cuisine_3', 'Cuisine_4', 'Cuisine_5', 'Cuisine_6', 'Cuisine_7', 'Cuisine_8', 'Minimum_Order', 'Average_Cost']\n",
    "model_dt = DecisionTreeClassifier(criterion='gini')\n",
    "classifier(model_dt, new_data,predictor_var,outcome_var)"
   ]
  },
  {
   "cell_type": "markdown",
   "metadata": {
    "id": "7OzOzLTS_be2"
   },
   "source": [
    "<h3>Random Forest"
   ]
  },
  {
   "cell_type": "code",
   "execution_count": 49,
   "metadata": {
    "colab": {
     "base_uri": "https://localhost:8080/"
    },
    "id": "TRTwsasE_be2",
    "outputId": "89a3b5c8-5f28-4c3a-c84e-0585dca28daf"
   },
   "outputs": [
    {
     "name": "stdout",
     "output_type": "stream",
     "text": [
      "[2 3 2 ... 2 2 2]\n",
      "Accuracy on training data is: 92.543%\n",
      "\n",
      " [2 2 2 ... 2 2 2]\n",
      "Accuracy on testing data is: 67.167%\n"
     ]
    }
   ],
   "source": [
    "outcome_var='Delivery_Time'\n",
    "predictor_var = ['Location','Cuisine_1', 'Cuisine_2', 'Cuisine_3', 'Cuisine_4', 'Cuisine_5', 'Cuisine_6', 'Cuisine_7', 'Cuisine_8', 'Minimum_Order', 'Average_Cost']\n",
    "model_rfc = RandomForestClassifier(n_estimators=100, random_state=42)\n",
    "classifier(model_rfc, new_data,predictor_var,outcome_var)"
   ]
  },
  {
   "cell_type": "markdown",
   "metadata": {
    "id": "lf0W6dm2_be6"
   },
   "source": [
    "<h4>Here we saw that Gradient Boosting Classifier gives best testing accuracy"
   ]
  },
  {
   "cell_type": "markdown",
   "metadata": {
    "id": "bXWGDJHmWTbR"
   },
   "source": [
    "<h4>Looking at this, we can convert the problem statement to classification problem as the values in our target variable is discrete and it might work better than our regression model but if we used neural network, it would give better results"
   ]
  }
 ],
 "metadata": {
  "colab": {
   "collapsed_sections": [],
   "name": "data_restaurent.ipynb",
   "provenance": []
  },
  "kernelspec": {
   "display_name": "Python",
   "language": "python",
   "name": "conda-env-python-py"
  },
  "language_info": {
   "codemirror_mode": {
    "name": "ipython",
    "version": 3
   },
   "file_extension": ".py",
   "mimetype": "text/x-python",
   "name": "python",
   "nbconvert_exporter": "python",
   "pygments_lexer": "ipython3",
   "version": "3.6.12"
  }
 },
 "nbformat": 4,
 "nbformat_minor": 4
}
