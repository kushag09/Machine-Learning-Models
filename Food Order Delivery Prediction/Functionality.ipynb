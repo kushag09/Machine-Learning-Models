{
 "cells": [
  {
   "cell_type": "code",
   "execution_count": 1,
   "metadata": {},
   "outputs": [
    {
     "name": "stdin",
     "output_type": "stream",
     "text": [
      "What is the location of your restaurant?:  Mumbai Central\n",
      "What is the minimum cost for an order?:  50\n",
      "What is the average cost for an order?:  150\n",
      "Please enter a cuisine that are offered (Enter 0 if null):  Burger\n",
      "Please enter a cuisine that are offered (Enter 0 if null):  Pizza\n",
      "Please enter a cuisine that are offered (Enter 0 if null):  Rolls\n",
      "Please enter a cuisine that are offered (Enter 0 if null):  0\n",
      "Please enter a cuisine that are offered (Enter 0 if null):  0\n",
      "Please enter a cuisine that are offered (Enter 0 if null):  0\n",
      "Please enter a cuisine that are offered (Enter 0 if null):  0\n",
      "Please enter a cuisine that are offered (Enter 0 if null):  0\n"
     ]
    },
    {
     "name": "stdout",
     "output_type": "stream",
     "text": [
      "\n",
      "Your food will be delivered in 30 minutes and to be precise, it will be delivered in 36 minutes\n"
     ]
    }
   ],
   "source": [
    "import numpy as np\n",
    "import pandas as pd\n",
    "import joblib\n",
    "import sklearn\n",
    "\n",
    "location_dict = np.load('loc_dict.npy',allow_pickle='TRUE').item()\n",
    "cuisine_dict = np.load('cuisine_dict.npy',allow_pickle='TRUE').item()\n",
    "encode = np.load('time_encode.npy',allow_pickle='TRUE').item()\n",
    "\n",
    "model_gb = joblib.load('Gradient_boost.sav')\n",
    "lr = joblib.load('Linear.sav')\n",
    "\n",
    "example = {\n",
    "    'Location':[],\n",
    "    'Minimum_Order':[],\n",
    "    'Average_Cost':[],\n",
    "    'Cuisine_1':[],\n",
    "    'Cuisine_2':[],\n",
    "    'Cuisine_3':[],\n",
    "    'Cuisine_4':[],\n",
    "    'Cuisine_5':[],    \n",
    "    'Cuisine_6':[],\n",
    "    'Cuisine_7':[],\n",
    "    'Cuisine_8':[]\n",
    "}\n",
    "locate = input('What is the location of your restaurant?: ')\n",
    "min_order = int(input('What is the minimum cost for an order?: '))\n",
    "av_cost = int(input('What is the average cost for an order?: '))\n",
    "example['Location'] = [locate]\n",
    "example['Minimum_Order'] = [min_order]\n",
    "example['Average_Cost'] = [av_cost]\n",
    "for i in range(1,9):\n",
    "    cuisine = input('Please enter a cuisine that are offered (Enter 0 if null): ')\n",
    "    if cuisine == '0' or cuisine == '9':\n",
    "        cuisine = np.nan\n",
    "    example['Cuisine_'+str(i)] = [cuisine]\n",
    "example_df = pd.DataFrame(example)\n",
    "example_df.replace(location_dict, inplace=True)\n",
    "example_df.replace(cuisine_dict, inplace=True)\n",
    "example_df.fillna(-1, inplace=True)\n",
    "predictor_var = ['Location', 'Cuisine_1', 'Cuisine_2', 'Cuisine_3', 'Cuisine_4', 'Cuisine_5', 'Cuisine_6', 'Cuisine_7', 'Cuisine_8', 'Minimum_Order', 'Average_Cost']\n",
    "prediction = model_gb.predict(example_df[predictor_var])\n",
    "prd = lr.predict(example_df[predictor_var])\n",
    "minutes = []\n",
    "for i in prediction:\n",
    "    minutes.append(list(encode['Delivery_Time'].keys())[list(encode['Delivery_Time'].values()).index(i)])\n",
    "print(f'\\nYour food will be delivered in {minutes[0]} minutes and to be precise, it will be delivered in {int(prd[0])} minutes')"
   ]
  },
  {
   "cell_type": "code",
   "execution_count": null,
   "metadata": {},
   "outputs": [],
   "source": []
  }
 ],
 "metadata": {
  "kernelspec": {
   "display_name": "Python",
   "language": "python",
   "name": "conda-env-python-py"
  },
  "language_info": {
   "codemirror_mode": {
    "name": "ipython",
    "version": 3
   },
   "file_extension": ".py",
   "mimetype": "text/x-python",
   "name": "python",
   "nbconvert_exporter": "python",
   "pygments_lexer": "ipython3",
   "version": "3.6.12"
  }
 },
 "nbformat": 4,
 "nbformat_minor": 4
}
